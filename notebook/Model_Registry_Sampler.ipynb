{
 "cells": [
  {
   "cell_type": "markdown",
   "metadata": {},
   "source": [
    "# Model Registry Sampler"
   ]
  },
  {
   "cell_type": "markdown",
   "metadata": {},
   "source": [
    "### Setup"
   ]
  },
  {
   "cell_type": "code",
   "execution_count": 1,
   "metadata": {
    "ExecuteTime": {
     "end_time": "2023-10-20T04:10:30.776156203Z",
     "start_time": "2023-10-20T04:10:30.363303269Z"
    }
   },
   "outputs": [
    {
     "name": "stdout",
     "output_type": "stream",
     "text": [
      "MLflow Version: 2.7.1\n"
     ]
    },
    {
     "name": "stderr",
     "output_type": "stream",
     "text": [
      "/home/giang/anaconda3/lib/python3.11/site-packages/pydantic/_internal/_fields.py:128: UserWarning: Field \"model_server_url\" has conflict with protected namespace \"model_\".\n",
      "\n",
      "You may be able to resolve this warning by setting `model_config['protected_namespaces'] = ()`.\n",
      "  warnings.warn(\n",
      "/home/giang/anaconda3/lib/python3.11/site-packages/pydantic/_internal/_config.py:317: UserWarning: Valid config keys have changed in V2:\n",
      "* 'schema_extra' has been renamed to 'json_schema_extra'\n",
      "  warnings.warn(message, UserWarning)\n"
     ]
    },
    {
     "data": {
      "text/plain": [
       "'http://localhost:5000'"
      ]
     },
     "execution_count": 1,
     "metadata": {},
     "output_type": "execute_result"
    }
   ],
   "source": [
    "import mlflow\n",
    "import time\n",
    "print(\"MLflow Version:\",mlflow.__version__)\n",
    "mlflow.tracking.get_tracking_uri()"
   ]
  },
  {
   "cell_type": "code",
   "execution_count": 2,
   "metadata": {
    "ExecuteTime": {
     "end_time": "2023-10-20T04:11:11.509687672Z",
     "start_time": "2023-10-20T04:10:45.246791965Z"
    }
   },
   "outputs": [
    {
     "data": {
      "text/plain": [
       "('870166387730181755', 'sklearn_registry_sampler', 0)"
      ]
     },
     "execution_count": 2,
     "metadata": {},
     "output_type": "execute_result"
    }
   ],
   "source": [
    "data_path = \"../data/train/wine-quality-white.csv\"\n",
    "mlflow.set_tracking_uri(\"http://localhost:5000\")\n",
    "client = mlflow.tracking.MlflowClient()\n",
    "naptime = 0\n",
    "model_name = \"sklearn_registry_sampler\"\n",
    "experiment_name = \"sklearn_registry_sampler\"\n",
    "mlflow.set_experiment(experiment_name)\n",
    "experiment_id = client.get_experiment_by_name(experiment_name).experiment_id\n",
    "experiment_id, experiment_name, naptime"
   ]
  },
  {
   "cell_type": "markdown",
   "metadata": {},
   "source": [
    "### Define training"
   ]
  },
  {
   "cell_type": "code",
   "execution_count": 3,
   "metadata": {},
   "outputs": [],
   "source": [
    "import pandas as pd\n",
    "import numpy as np\n",
    "from sklearn.metrics import mean_squared_error, mean_absolute_error, r2_score\n",
    "from sklearn.model_selection import train_test_split\n",
    "from sklearn.tree import DecisionTreeRegressor\n",
    "import mlflow\n",
    "import mlflow.sklearn"
   ]
  },
  {
   "cell_type": "code",
   "execution_count": 4,
   "metadata": {},
   "outputs": [],
   "source": [
    "data = pd.read_csv(data_path)\n",
    "train, test = train_test_split(data)\n",
    "train_x = train.drop([\"quality\"], axis=1)\n",
    "test_x = test.drop([\"quality\"], axis=1)\n",
    "train_y = train[[\"quality\"]]\n",
    "test_y = test[[\"quality\"]]"
   ]
  },
  {
   "cell_type": "code",
   "execution_count": 5,
   "metadata": {},
   "outputs": [],
   "source": [
    "def train(max_depth):\n",
    "    with mlflow.start_run(run_name=\"reg_test\") as run:\n",
    "        run_id = run.info.run_uuid\n",
    "        dt = DecisionTreeRegressor(max_depth=max_depth)\n",
    "        dt.fit(train_x, train_y)\n",
    "        predictions = dt.predict(test_x)\n",
    "        mlflow.log_param(\"max_depth\", max_depth)\n",
    "        rmse = np.sqrt(mean_squared_error(test_y, predictions))\n",
    "        mlflow.log_metric(\"rmse\", rmse)\n",
    "        print(f\"{experiment_id} {run_id} {round(rmse,3)}\")\n",
    "        mlflow.sklearn.log_model(dt, \"sklearn-model\")"
   ]
  },
  {
   "cell_type": "markdown",
   "metadata": {},
   "source": [
    "### Create runs"
   ]
  },
  {
   "cell_type": "code",
   "execution_count": 6,
   "metadata": {},
   "outputs": [
    {
     "name": "stdout",
     "output_type": "stream",
     "text": [
      "870166387730181755 a8bbd45b6295461889c5d4b62f77069d 0.819\n"
     ]
    },
    {
     "name": "stderr",
     "output_type": "stream",
     "text": [
      "/home/giang/anaconda3/lib/python3.11/site-packages/_distutils_hack/__init__.py:33: UserWarning: Setuptools is replacing distutils.\n",
      "  warnings.warn(\"Setuptools is replacing distutils.\")\n"
     ]
    },
    {
     "name": "stdout",
     "output_type": "stream",
     "text": [
      "870166387730181755 28e4131f09ae4ef1aa8c3461e112ded1 0.786\n",
      "870166387730181755 ec042fce8a0b403e938437da22b90b14 0.745\n",
      "870166387730181755 f0855b30fbf84464b302d693e1f96191 0.755\n",
      "870166387730181755 ec22d452079c4237834da694f8cb6a1c 0.874\n"
     ]
    }
   ],
   "source": [
    "max_depths = [1,2,4,5,16]\n",
    "for x in max_depths:\n",
    "    train(x)"
   ]
  },
  {
   "cell_type": "markdown",
   "metadata": {},
   "source": [
    "### Create model versions"
   ]
  },
  {
   "cell_type": "code",
   "execution_count": 7,
   "metadata": {
    "scrolled": true
   },
   "outputs": [
    {
     "name": "stdout",
     "output_type": "stream",
     "text": [
      "0.745 {'max_depth': '4'}\n",
      "0.755 {'max_depth': '5'}\n",
      "0.786 {'max_depth': '2'}\n",
      "0.819 {'max_depth': '1'}\n",
      "0.874 {'max_depth': '16'}\n"
     ]
    }
   ],
   "source": [
    "runs = client.search_runs(experiment_id,\"\", order_by=[\"metrics.rmse asc\"])\n",
    "for run in runs:\n",
    "    print(f\"{round(run.data.metrics['rmse'],3)} {run.data.params}\")"
   ]
  },
  {
   "cell_type": "code",
   "execution_count": 8,
   "metadata": {},
   "outputs": [
    {
     "data": {
      "text/plain": [
       "0.745"
      ]
     },
     "execution_count": 8,
     "metadata": {},
     "output_type": "execute_result"
    }
   ],
   "source": [
    "prod_run = runs[:1][0]\n",
    "round(prod_run.data.metrics['rmse'],3)"
   ]
  },
  {
   "cell_type": "code",
   "execution_count": 9,
   "metadata": {},
   "outputs": [
    {
     "data": {
      "text/plain": [
       "(3, 1)"
      ]
     },
     "execution_count": 9,
     "metadata": {},
     "output_type": "execute_result"
    }
   ],
   "source": [
    "staging_runs = runs[1:4]\n",
    "none_runs = runs[4:]\n",
    "len(staging_runs),len(none_runs)"
   ]
  },
  {
   "cell_type": "code",
   "execution_count": 10,
   "metadata": {},
   "outputs": [
    {
     "name": "stdout",
     "output_type": "stream",
     "text": [
      "0.755 {'max_depth': '5'}\n",
      "0.786 {'max_depth': '2'}\n",
      "0.819 {'max_depth': '1'}\n"
     ]
    }
   ],
   "source": [
    "for run in staging_runs:\n",
    "    print(f\"{round(run.data.metrics['rmse'],3)} {run.data.params}\")"
   ]
  },
  {
   "cell_type": "code",
   "execution_count": 11,
   "metadata": {
    "scrolled": true
   },
   "outputs": [
    {
     "name": "stdout",
     "output_type": "stream",
     "text": [
      "0.874 {'max_depth': '16'}\n"
     ]
    }
   ],
   "source": [
    "for run in none_runs:\n",
    "    print(f\"{round(run.data.metrics['rmse'],3)} {run.data.params}\")"
   ]
  },
  {
   "cell_type": "markdown",
   "metadata": {},
   "source": [
    "## Registry"
   ]
  },
  {
   "cell_type": "code",
   "execution_count": 12,
   "metadata": {},
   "outputs": [
    {
     "name": "stdout",
     "output_type": "stream",
     "text": [
      "RESOURCE_DOES_NOT_EXIST: Registered Model with name=sklearn_registry_sampler not found\n"
     ]
    }
   ],
   "source": [
    "try:\n",
    "    client.delete_registered_model(model_name)\n",
    "    print(\"Deleting model\")\n",
    "except Exception as e:\n",
    "    print(e)"
   ]
  },
  {
   "cell_type": "code",
   "execution_count": 13,
   "metadata": {},
   "outputs": [
    {
     "name": "stdout",
     "output_type": "stream",
     "text": [
      "Creating new model\n"
     ]
    },
    {
     "data": {
      "text/plain": [
       "(mlflow.entities.model_registry.registered_model.RegisteredModel,\n",
       " {'_name': 'sklearn_registry_sampler',\n",
       "  '_creation_time': 1697790565482,\n",
       "  '_last_updated_timestamp': 1697790565482,\n",
       "  '_description': '',\n",
       "  '_latest_version': [],\n",
       "  '_tags': {},\n",
       "  '_aliases': {}})"
      ]
     },
     "execution_count": 13,
     "metadata": {},
     "output_type": "execute_result"
    }
   ],
   "source": [
    "from mlflow.exceptions import MlflowException, RestException\n",
    "try:\n",
    "    registered_model = client.get_registered_model(model_name)\n",
    "    print(\"Found existing model\")\n",
    "except RestException as e:\n",
    "    print(\"Creating new model\")\n",
    "    client.create_registered_model(model_name)\n",
    "    registered_model = client.get_registered_model(model_name)\n",
    "type(registered_model), registered_model.__dict__"
   ]
  },
  {
   "cell_type": "markdown",
   "metadata": {},
   "source": [
    "### Production model"
   ]
  },
  {
   "cell_type": "code",
   "execution_count": 14,
   "metadata": {},
   "outputs": [
    {
     "data": {
      "text/plain": [
       "'mlflow-artifacts:/870166387730181755/ec042fce8a0b403e938437da22b90b14/artifacts'"
      ]
     },
     "execution_count": 14,
     "metadata": {},
     "output_type": "execute_result"
    }
   ],
   "source": [
    "prod_run.info.artifact_uri"
   ]
  },
  {
   "cell_type": "code",
   "execution_count": 15,
   "metadata": {},
   "outputs": [
    {
     "name": "stderr",
     "output_type": "stream",
     "text": [
      "2023/10/20 15:29:25 INFO mlflow.tracking._model_registry.client: Waiting up to 300 seconds for model version to finish creation. Model name: sklearn_registry_sampler, version 1\n"
     ]
    }
   ],
   "source": [
    "source = f\"{prod_run.info.artifact_uri}/sklearn-model\"\n",
    "client.create_model_version(model_name, source, prod_run.info.run_id)\n",
    "time.sleep(naptime)"
   ]
  },
  {
   "cell_type": "code",
   "execution_count": 16,
   "metadata": {},
   "outputs": [
    {
     "data": {
      "text/plain": [
       "(1,\n",
       " [<ModelVersion: aliases=[], creation_timestamp=1697790565506, current_stage='None', description='', last_updated_timestamp=1697790565506, name='sklearn_registry_sampler', run_id='ec042fce8a0b403e938437da22b90b14', run_link='', source='mlflow-artifacts:/870166387730181755/ec042fce8a0b403e938437da22b90b14/artifacts/sklearn-model', status='READY', status_message='', tags={}, user_id='', version='1'>])"
      ]
     },
     "execution_count": 16,
     "metadata": {},
     "output_type": "execute_result"
    }
   ],
   "source": [
    "versions = client.get_latest_versions(model_name)\n",
    "len(versions),versions"
   ]
  },
  {
   "cell_type": "code",
   "execution_count": 17,
   "metadata": {},
   "outputs": [
    {
     "data": {
      "text/plain": [
       "(1,\n",
       " [<ModelVersion: aliases=[], creation_timestamp=1697790565506, current_stage='None', description='', last_updated_timestamp=1697790565506, name='sklearn_registry_sampler', run_id='ec042fce8a0b403e938437da22b90b14', run_link='', source='mlflow-artifacts:/870166387730181755/ec042fce8a0b403e938437da22b90b14/artifacts/sklearn-model', status='READY', status_message='', tags={}, user_id='', version='1'>])"
      ]
     },
     "execution_count": 17,
     "metadata": {},
     "output_type": "execute_result"
    }
   ],
   "source": [
    "registered_model = client.get_registered_model(model_name)\n",
    "versions = registered_model.latest_versions\n",
    "len(versions),versions"
   ]
  },
  {
   "cell_type": "code",
   "execution_count": 18,
   "metadata": {},
   "outputs": [
    {
     "data": {
      "text/plain": [
       "{'_name': 'sklearn_registry_sampler',\n",
       " '_version': '1',\n",
       " '_creation_time': 1697790565506,\n",
       " '_last_updated_timestamp': 1697790565506,\n",
       " '_description': '',\n",
       " '_user_id': '',\n",
       " '_current_stage': 'None',\n",
       " '_source': 'mlflow-artifacts:/870166387730181755/ec042fce8a0b403e938437da22b90b14/artifacts/sklearn-model',\n",
       " '_run_id': 'ec042fce8a0b403e938437da22b90b14',\n",
       " '_run_link': '',\n",
       " '_status': 'READY',\n",
       " '_status_message': '',\n",
       " '_tags': {},\n",
       " '_aliases': []}"
      ]
     },
     "execution_count": 18,
     "metadata": {},
     "output_type": "execute_result"
    }
   ],
   "source": [
    "versionDetails = client.get_model_version(model_name,1)\n",
    "versionDetails.__dict__"
   ]
  },
  {
   "cell_type": "code",
   "execution_count": 19,
   "metadata": {},
   "outputs": [
    {
     "data": {
      "text/plain": [
       "<ModelVersion: aliases=[], creation_timestamp=1697790565506, current_stage='Production', description='', last_updated_timestamp=1697790565579, name='sklearn_registry_sampler', run_id='ec042fce8a0b403e938437da22b90b14', run_link='', source='mlflow-artifacts:/870166387730181755/ec042fce8a0b403e938437da22b90b14/artifacts/sklearn-model', status='READY', status_message='', tags={}, user_id='', version='1'>"
      ]
     },
     "execution_count": 19,
     "metadata": {},
     "output_type": "execute_result"
    }
   ],
   "source": [
    "#client.update_model_version(model_name, 1, stage=\"Production\", description=\"My prod version\") # 1.8.0\n",
    "client.transition_model_version_stage (model_name, 1, \"Production\") # 1.9.0"
   ]
  },
  {
   "cell_type": "code",
   "execution_count": 20,
   "metadata": {},
   "outputs": [
    {
     "data": {
      "text/plain": [
       "['None', 'Staging', 'Production', 'Archived']"
      ]
     },
     "execution_count": 20,
     "metadata": {},
     "output_type": "execute_result"
    }
   ],
   "source": [
    "client.get_model_version_stages(model_name,1)"
   ]
  },
  {
   "cell_type": "code",
   "execution_count": 21,
   "metadata": {},
   "outputs": [
    {
     "data": {
      "text/plain": [
       "[<ModelVersion: aliases=[], creation_timestamp=1697790565506, current_stage='Production', description='', last_updated_timestamp=1697790565579, name='sklearn_registry_sampler', run_id='ec042fce8a0b403e938437da22b90b14', run_link='', source='mlflow-artifacts:/870166387730181755/ec042fce8a0b403e938437da22b90b14/artifacts/sklearn-model', status='READY', status_message='', tags={}, user_id='', version='1'>]"
      ]
     },
     "execution_count": 21,
     "metadata": {},
     "output_type": "execute_result"
    }
   ],
   "source": [
    "client.get_latest_versions(model_name)"
   ]
  },
  {
   "cell_type": "code",
   "execution_count": 22,
   "metadata": {},
   "outputs": [
    {
     "data": {
      "text/plain": [
       "{'_name': 'sklearn_registry_sampler',\n",
       " '_version': '1',\n",
       " '_creation_time': 1697790565506,\n",
       " '_last_updated_timestamp': 1697790565579,\n",
       " '_description': '',\n",
       " '_user_id': '',\n",
       " '_current_stage': 'Production',\n",
       " '_source': 'mlflow-artifacts:/870166387730181755/ec042fce8a0b403e938437da22b90b14/artifacts/sklearn-model',\n",
       " '_run_id': 'ec042fce8a0b403e938437da22b90b14',\n",
       " '_run_link': '',\n",
       " '_status': 'READY',\n",
       " '_status_message': '',\n",
       " '_tags': {},\n",
       " '_aliases': []}"
      ]
     },
     "execution_count": 22,
     "metadata": {},
     "output_type": "execute_result"
    }
   ],
   "source": [
    "versionDetails = client.get_model_version(model_name,1)\n",
    "versionDetails.__dict__"
   ]
  },
  {
   "cell_type": "markdown",
   "metadata": {},
   "source": [
    "### Staging"
   ]
  },
  {
   "cell_type": "code",
   "execution_count": 23,
   "metadata": {},
   "outputs": [],
   "source": [
    "def show_versions(versions):\n",
    "    for v in versions:\n",
    "        print(f\"{v.run_id} {v.version} {v.current_stage} '{v.description}'\")"
   ]
  },
  {
   "cell_type": "code",
   "execution_count": 24,
   "metadata": {},
   "outputs": [
    {
     "name": "stdout",
     "output_type": "stream",
     "text": [
      "==== 0\n"
     ]
    },
    {
     "name": "stderr",
     "output_type": "stream",
     "text": [
      "2023/10/20 15:29:25 INFO mlflow.tracking._model_registry.client: Waiting up to 300 seconds for model version to finish creation. Model name: sklearn_registry_sampler, version 2\n",
      "2023/10/20 15:29:25 INFO mlflow.tracking._model_registry.client: Waiting up to 300 seconds for model version to finish creation. Model name: sklearn_registry_sampler, version 3\n",
      "2023/10/20 15:29:25 INFO mlflow.tracking._model_registry.client: Waiting up to 300 seconds for model version to finish creation. Model name: sklearn_registry_sampler, version 4\n"
     ]
    },
    {
     "name": "stdout",
     "output_type": "stream",
     "text": [
      "{'_name': 'sklearn_registry_sampler', '_version': '2', '_creation_time': 1697790565680, '_last_updated_timestamp': 1697790565680, '_description': '', '_user_id': '', '_current_stage': 'None', '_source': 'mlflow-artifacts:/870166387730181755/f0855b30fbf84464b302d693e1f96191/artifacts/sklearn-model', '_run_id': 'f0855b30fbf84464b302d693e1f96191', '_run_link': '', '_status': 'READY', '_status_message': '', '_tags': {}, '_aliases': []}\n",
      "==== 1\n",
      "{'_name': 'sklearn_registry_sampler', '_version': '3', '_creation_time': 1697790565687, '_last_updated_timestamp': 1697790565687, '_description': '', '_user_id': '', '_current_stage': 'None', '_source': 'mlflow-artifacts:/870166387730181755/28e4131f09ae4ef1aa8c3461e112ded1/artifacts/sklearn-model', '_run_id': '28e4131f09ae4ef1aa8c3461e112ded1', '_run_link': '', '_status': 'READY', '_status_message': '', '_tags': {}, '_aliases': []}\n",
      "==== 2\n",
      "{'_name': 'sklearn_registry_sampler', '_version': '4', '_creation_time': 1697790565694, '_last_updated_timestamp': 1697790565694, '_description': '', '_user_id': '', '_current_stage': 'None', '_source': 'mlflow-artifacts:/870166387730181755/a8bbd45b6295461889c5d4b62f77069d/artifacts/sklearn-model', '_run_id': 'a8bbd45b6295461889c5d4b62f77069d', '_run_link': '', '_status': 'READY', '_status_message': '', '_tags': {}, '_aliases': []}\n"
     ]
    }
   ],
   "source": [
    " for j,run in enumerate(staging_runs):\n",
    "    print(f\"==== {j}\")\n",
    "    source = f\"{run.info.artifact_uri}/sklearn-model\"\n",
    "    version = client.create_model_version(model_name, source, run.info.run_id)\n",
    "    #print(version.__dict__)\n",
    "    time.sleep(naptime)\n",
    "    versionDetails = client.get_model_version(model_name,version.version)\n",
    "    print(versionDetails.__dict__)\n",
    "    #client.update_model_version(model_name, version.version, stage=\"Staging\", description=f\"My staging version {j}\") # 1.8.0\n",
    "    client.transition_model_version_stage(model_name, version.version, \"Staging\")"
   ]
  },
  {
   "cell_type": "markdown",
   "metadata": {},
   "source": [
    "### Manipulate Versions"
   ]
  },
  {
   "cell_type": "markdown",
   "metadata": {},
   "source": [
    "#### Update Version"
   ]
  },
  {
   "cell_type": "code",
   "execution_count": 25,
   "metadata": {},
   "outputs": [
    {
     "name": "stdout",
     "output_type": "stream",
     "text": [
      "a8bbd45b6295461889c5d4b62f77069d 4 Staging ''\n",
      "28e4131f09ae4ef1aa8c3461e112ded1 3 Staging ''\n",
      "f0855b30fbf84464b302d693e1f96191 2 Staging ''\n",
      "ec042fce8a0b403e938437da22b90b14 1 Production ''\n"
     ]
    }
   ],
   "source": [
    "show_versions(client.search_model_versions(f\"name='{model_name}'\"))"
   ]
  },
  {
   "cell_type": "code",
   "execution_count": 26,
   "metadata": {},
   "outputs": [
    {
     "data": {
      "text/plain": [
       "<ModelVersion: aliases=[], creation_timestamp=1697790565687, current_stage='None', description='', last_updated_timestamp=1697790565720, name='sklearn_registry_sampler', run_id='28e4131f09ae4ef1aa8c3461e112ded1', run_link='', source='mlflow-artifacts:/870166387730181755/28e4131f09ae4ef1aa8c3461e112ded1/artifacts/sklearn-model', status='READY', status_message='', tags={}, user_id='', version='3'>"
      ]
     },
     "execution_count": 26,
     "metadata": {},
     "output_type": "execute_result"
    }
   ],
   "source": [
    "#client.update_model_version(model_name, 3, stage='None') # 1.8.0\n",
    "client.transition_model_version_stage (model_name, 3, \"None\") # 1.9.0"
   ]
  },
  {
   "cell_type": "code",
   "execution_count": 27,
   "metadata": {},
   "outputs": [
    {
     "name": "stdout",
     "output_type": "stream",
     "text": [
      "28e4131f09ae4ef1aa8c3461e112ded1 3 None ''\n",
      "a8bbd45b6295461889c5d4b62f77069d 4 Staging ''\n",
      "f0855b30fbf84464b302d693e1f96191 2 Staging ''\n",
      "ec042fce8a0b403e938437da22b90b14 1 Production ''\n"
     ]
    }
   ],
   "source": [
    "show_versions(client.search_model_versions(f\"name='{model_name}'\"))"
   ]
  },
  {
   "cell_type": "markdown",
   "metadata": {},
   "source": [
    "#### Delete Version"
   ]
  },
  {
   "cell_type": "code",
   "execution_count": 28,
   "metadata": {},
   "outputs": [],
   "source": [
    "client.delete_model_version(model_name, 3)"
   ]
  },
  {
   "cell_type": "code",
   "execution_count": 29,
   "metadata": {},
   "outputs": [
    {
     "name": "stdout",
     "output_type": "stream",
     "text": [
      "a8bbd45b6295461889c5d4b62f77069d 4 Staging ''\n",
      "f0855b30fbf84464b302d693e1f96191 2 Staging ''\n",
      "ec042fce8a0b403e938437da22b90b14 1 Production ''\n"
     ]
    }
   ],
   "source": [
    "show_versions(client.search_model_versions(f\"name='{model_name}'\"))"
   ]
  },
  {
   "cell_type": "markdown",
   "metadata": {},
   "source": [
    "### Execute version methods"
   ]
  },
  {
   "cell_type": "code",
   "execution_count": 30,
   "metadata": {},
   "outputs": [
    {
     "name": "stdout",
     "output_type": "stream",
     "text": [
      "a8bbd45b6295461889c5d4b62f77069d 4 Staging ''\n",
      "f0855b30fbf84464b302d693e1f96191 2 Staging ''\n",
      "ec042fce8a0b403e938437da22b90b14 1 Production ''\n"
     ]
    }
   ],
   "source": [
    "versions = client.search_model_versions(f\"name='{model_name}'\")\n",
    "show_versions(versions)"
   ]
  },
  {
   "cell_type": "code",
   "execution_count": 31,
   "metadata": {},
   "outputs": [
    {
     "name": "stdout",
     "output_type": "stream",
     "text": [
      "a8bbd45b6295461889c5d4b62f77069d 4 Staging ''\n",
      "ec042fce8a0b403e938437da22b90b14 1 Production ''\n"
     ]
    }
   ],
   "source": [
    "versions =  client.get_latest_versions(model_name)\n",
    "show_versions(versions)"
   ]
  },
  {
   "cell_type": "code",
   "execution_count": 32,
   "metadata": {},
   "outputs": [
    {
     "data": {
      "text/plain": [
       "{'_name': 'sklearn_registry_sampler',\n",
       " '_creation_time': 1697790565482,\n",
       " '_last_updated_timestamp': 1697790565758,\n",
       " '_description': '',\n",
       " '_latest_version': [<ModelVersion: aliases=[], creation_timestamp=1697790565694, current_stage='Staging', description='', last_updated_timestamp=1697790565699, name='sklearn_registry_sampler', run_id='a8bbd45b6295461889c5d4b62f77069d', run_link='', source='mlflow-artifacts:/870166387730181755/a8bbd45b6295461889c5d4b62f77069d/artifacts/sklearn-model', status='READY', status_message='', tags={}, user_id='', version='4'>,\n",
       "  <ModelVersion: aliases=[], creation_timestamp=1697790565506, current_stage='Production', description='', last_updated_timestamp=1697790565579, name='sklearn_registry_sampler', run_id='ec042fce8a0b403e938437da22b90b14', run_link='', source='mlflow-artifacts:/870166387730181755/ec042fce8a0b403e938437da22b90b14/artifacts/sklearn-model', status='READY', status_message='', tags={}, user_id='', version='1'>],\n",
       " '_tags': {},\n",
       " '_aliases': {}}"
      ]
     },
     "execution_count": 32,
     "metadata": {},
     "output_type": "execute_result"
    }
   ],
   "source": [
    "registered_model = client.get_registered_model(model_name)\n",
    "registered_model.__dict__"
   ]
  },
  {
   "cell_type": "code",
   "execution_count": 33,
   "metadata": {},
   "outputs": [
    {
     "name": "stdout",
     "output_type": "stream",
     "text": [
      "a8bbd45b6295461889c5d4b62f77069d 4 Staging ''\n",
      "ec042fce8a0b403e938437da22b90b14 1 Production ''\n"
     ]
    }
   ],
   "source": [
    "show_versions(registered_model.latest_versions)"
   ]
  },
  {
   "cell_type": "code",
   "execution_count": 34,
   "metadata": {},
   "outputs": [
    {
     "name": "stdout",
     "output_type": "stream",
     "text": [
      "ec042fce8a0b403e938437da22b90b14 1 Production ''\n"
     ]
    }
   ],
   "source": [
    "versions = client.get_latest_versions(model_name, stages=[\"Production\"])\n",
    "show_versions(versions)"
   ]
  },
  {
   "cell_type": "code",
   "execution_count": 35,
   "metadata": {},
   "outputs": [
    {
     "name": "stdout",
     "output_type": "stream",
     "text": [
      "a8bbd45b6295461889c5d4b62f77069d 4 Staging ''\n"
     ]
    }
   ],
   "source": [
    "versions = client.get_latest_versions(model_name, stages=[\"Staging\"])\n",
    "show_versions(versions)"
   ]
  },
  {
   "cell_type": "markdown",
   "metadata": {},
   "source": [
    "### Get Model and predict"
   ]
  },
  {
   "cell_type": "markdown",
   "metadata": {},
   "source": [
    "#### Production model"
   ]
  },
  {
   "cell_type": "code",
   "execution_count": 36,
   "metadata": {},
   "outputs": [],
   "source": [
    "data_predict = data.drop(['quality'], axis=1)"
   ]
  },
  {
   "cell_type": "code",
   "execution_count": 37,
   "metadata": {},
   "outputs": [
    {
     "data": {
      "text/plain": [
       "'models:/sklearn_registry_sampler/production'"
      ]
     },
     "execution_count": 37,
     "metadata": {},
     "output_type": "execute_result"
    }
   ],
   "source": [
    "model_uri = f\"models:/{model_name}/production\"\n",
    "model_uri"
   ]
  },
  {
   "cell_type": "code",
   "execution_count": 38,
   "metadata": {},
   "outputs": [
    {
     "data": {
      "application/vnd.jupyter.widget-view+json": {
       "model_id": "dc3d6c9e85c5412e9bbbce0336e58f02",
       "version_major": 2,
       "version_minor": 0
      },
      "text/plain": [
       "Downloading artifacts:   0%|          | 0/5 [00:00<?, ?it/s]"
      ]
     },
     "metadata": {},
     "output_type": "display_data"
    },
    {
     "data": {
      "text/html": [
       "<style>#sk-container-id-1 {color: black;}#sk-container-id-1 pre{padding: 0;}#sk-container-id-1 div.sk-toggleable {background-color: white;}#sk-container-id-1 label.sk-toggleable__label {cursor: pointer;display: block;width: 100%;margin-bottom: 0;padding: 0.3em;box-sizing: border-box;text-align: center;}#sk-container-id-1 label.sk-toggleable__label-arrow:before {content: \"▸\";float: left;margin-right: 0.25em;color: #696969;}#sk-container-id-1 label.sk-toggleable__label-arrow:hover:before {color: black;}#sk-container-id-1 div.sk-estimator:hover label.sk-toggleable__label-arrow:before {color: black;}#sk-container-id-1 div.sk-toggleable__content {max-height: 0;max-width: 0;overflow: hidden;text-align: left;background-color: #f0f8ff;}#sk-container-id-1 div.sk-toggleable__content pre {margin: 0.2em;color: black;border-radius: 0.25em;background-color: #f0f8ff;}#sk-container-id-1 input.sk-toggleable__control:checked~div.sk-toggleable__content {max-height: 200px;max-width: 100%;overflow: auto;}#sk-container-id-1 input.sk-toggleable__control:checked~label.sk-toggleable__label-arrow:before {content: \"▾\";}#sk-container-id-1 div.sk-estimator input.sk-toggleable__control:checked~label.sk-toggleable__label {background-color: #d4ebff;}#sk-container-id-1 div.sk-label input.sk-toggleable__control:checked~label.sk-toggleable__label {background-color: #d4ebff;}#sk-container-id-1 input.sk-hidden--visually {border: 0;clip: rect(1px 1px 1px 1px);clip: rect(1px, 1px, 1px, 1px);height: 1px;margin: -1px;overflow: hidden;padding: 0;position: absolute;width: 1px;}#sk-container-id-1 div.sk-estimator {font-family: monospace;background-color: #f0f8ff;border: 1px dotted black;border-radius: 0.25em;box-sizing: border-box;margin-bottom: 0.5em;}#sk-container-id-1 div.sk-estimator:hover {background-color: #d4ebff;}#sk-container-id-1 div.sk-parallel-item::after {content: \"\";width: 100%;border-bottom: 1px solid gray;flex-grow: 1;}#sk-container-id-1 div.sk-label:hover label.sk-toggleable__label {background-color: #d4ebff;}#sk-container-id-1 div.sk-serial::before {content: \"\";position: absolute;border-left: 1px solid gray;box-sizing: border-box;top: 0;bottom: 0;left: 50%;z-index: 0;}#sk-container-id-1 div.sk-serial {display: flex;flex-direction: column;align-items: center;background-color: white;padding-right: 0.2em;padding-left: 0.2em;position: relative;}#sk-container-id-1 div.sk-item {position: relative;z-index: 1;}#sk-container-id-1 div.sk-parallel {display: flex;align-items: stretch;justify-content: center;background-color: white;position: relative;}#sk-container-id-1 div.sk-item::before, #sk-container-id-1 div.sk-parallel-item::before {content: \"\";position: absolute;border-left: 1px solid gray;box-sizing: border-box;top: 0;bottom: 0;left: 50%;z-index: -1;}#sk-container-id-1 div.sk-parallel-item {display: flex;flex-direction: column;z-index: 1;position: relative;background-color: white;}#sk-container-id-1 div.sk-parallel-item:first-child::after {align-self: flex-end;width: 50%;}#sk-container-id-1 div.sk-parallel-item:last-child::after {align-self: flex-start;width: 50%;}#sk-container-id-1 div.sk-parallel-item:only-child::after {width: 0;}#sk-container-id-1 div.sk-dashed-wrapped {border: 1px dashed gray;margin: 0 0.4em 0.5em 0.4em;box-sizing: border-box;padding-bottom: 0.4em;background-color: white;}#sk-container-id-1 div.sk-label label {font-family: monospace;font-weight: bold;display: inline-block;line-height: 1.2em;}#sk-container-id-1 div.sk-label-container {text-align: center;}#sk-container-id-1 div.sk-container {/* jupyter's `normalize.less` sets `[hidden] { display: none; }` but bootstrap.min.css set `[hidden] { display: none !important; }` so we also need the `!important` here to be able to override the default hidden behavior on the sphinx rendered scikit-learn.org. See: https://github.com/scikit-learn/scikit-learn/issues/21755 */display: inline-block !important;position: relative;}#sk-container-id-1 div.sk-text-repr-fallback {display: none;}</style><div id=\"sk-container-id-1\" class=\"sk-top-container\"><div class=\"sk-text-repr-fallback\"><pre>DecisionTreeRegressor(max_depth=4)</pre><b>In a Jupyter environment, please rerun this cell to show the HTML representation or trust the notebook. <br />On GitHub, the HTML representation is unable to render, please try loading this page with nbviewer.org.</b></div><div class=\"sk-container\" hidden><div class=\"sk-item\"><div class=\"sk-estimator sk-toggleable\"><input class=\"sk-toggleable__control sk-hidden--visually\" id=\"sk-estimator-id-1\" type=\"checkbox\" checked><label for=\"sk-estimator-id-1\" class=\"sk-toggleable__label sk-toggleable__label-arrow\">DecisionTreeRegressor</label><div class=\"sk-toggleable__content\"><pre>DecisionTreeRegressor(max_depth=4)</pre></div></div></div></div></div>"
      ],
      "text/plain": [
       "DecisionTreeRegressor(max_depth=4)"
      ]
     },
     "execution_count": 38,
     "metadata": {},
     "output_type": "execute_result"
    }
   ],
   "source": [
    "model = mlflow.sklearn.load_model(model_uri)\n",
    "model"
   ]
  },
  {
   "cell_type": "code",
   "execution_count": 39,
   "metadata": {},
   "outputs": [
    {
     "data": {
      "text/html": [
       "<div>\n",
       "<style scoped>\n",
       "    .dataframe tbody tr th:only-of-type {\n",
       "        vertical-align: middle;\n",
       "    }\n",
       "\n",
       "    .dataframe tbody tr th {\n",
       "        vertical-align: top;\n",
       "    }\n",
       "\n",
       "    .dataframe thead th {\n",
       "        text-align: right;\n",
       "    }\n",
       "</style>\n",
       "<table border=\"1\" class=\"dataframe\">\n",
       "  <thead>\n",
       "    <tr style=\"text-align: right;\">\n",
       "      <th></th>\n",
       "      <th>0</th>\n",
       "    </tr>\n",
       "  </thead>\n",
       "  <tbody>\n",
       "    <tr>\n",
       "      <th>0</th>\n",
       "      <td>5.434518</td>\n",
       "    </tr>\n",
       "    <tr>\n",
       "      <th>1</th>\n",
       "      <td>5.055118</td>\n",
       "    </tr>\n",
       "    <tr>\n",
       "      <th>2</th>\n",
       "      <td>5.434518</td>\n",
       "    </tr>\n",
       "    <tr>\n",
       "      <th>3</th>\n",
       "      <td>5.884848</td>\n",
       "    </tr>\n",
       "    <tr>\n",
       "      <th>4</th>\n",
       "      <td>5.884848</td>\n",
       "    </tr>\n",
       "  </tbody>\n",
       "</table>\n",
       "</div>"
      ],
      "text/plain": [
       "          0\n",
       "0  5.434518\n",
       "1  5.055118\n",
       "2  5.434518\n",
       "3  5.884848\n",
       "4  5.884848"
      ]
     },
     "execution_count": 39,
     "metadata": {},
     "output_type": "execute_result"
    }
   ],
   "source": [
    "predictions = model.predict(data_predict)\n",
    "pd.DataFrame(predictions).head(5)"
   ]
  },
  {
   "cell_type": "markdown",
   "metadata": {},
   "source": [
    "#### Staging model\n",
    "\n",
    "NOTE: Nếu có lớn hơn 1 model ở trạng thái Staging thì MLflow sẽ trả về model mới nhất. Trong doc không đề cập vấn đề này.\n",
    "This is not documented."
   ]
  },
  {
   "cell_type": "code",
   "execution_count": 40,
   "metadata": {},
   "outputs": [
    {
     "data": {
      "application/vnd.jupyter.widget-view+json": {
       "model_id": "b3facfcf55ce4129bd97089269c7392c",
       "version_major": 2,
       "version_minor": 0
      },
      "text/plain": [
       "Downloading artifacts:   0%|          | 0/5 [00:00<?, ?it/s]"
      ]
     },
     "metadata": {},
     "output_type": "display_data"
    },
    {
     "data": {
      "text/html": [
       "<style>#sk-container-id-2 {color: black;}#sk-container-id-2 pre{padding: 0;}#sk-container-id-2 div.sk-toggleable {background-color: white;}#sk-container-id-2 label.sk-toggleable__label {cursor: pointer;display: block;width: 100%;margin-bottom: 0;padding: 0.3em;box-sizing: border-box;text-align: center;}#sk-container-id-2 label.sk-toggleable__label-arrow:before {content: \"▸\";float: left;margin-right: 0.25em;color: #696969;}#sk-container-id-2 label.sk-toggleable__label-arrow:hover:before {color: black;}#sk-container-id-2 div.sk-estimator:hover label.sk-toggleable__label-arrow:before {color: black;}#sk-container-id-2 div.sk-toggleable__content {max-height: 0;max-width: 0;overflow: hidden;text-align: left;background-color: #f0f8ff;}#sk-container-id-2 div.sk-toggleable__content pre {margin: 0.2em;color: black;border-radius: 0.25em;background-color: #f0f8ff;}#sk-container-id-2 input.sk-toggleable__control:checked~div.sk-toggleable__content {max-height: 200px;max-width: 100%;overflow: auto;}#sk-container-id-2 input.sk-toggleable__control:checked~label.sk-toggleable__label-arrow:before {content: \"▾\";}#sk-container-id-2 div.sk-estimator input.sk-toggleable__control:checked~label.sk-toggleable__label {background-color: #d4ebff;}#sk-container-id-2 div.sk-label input.sk-toggleable__control:checked~label.sk-toggleable__label {background-color: #d4ebff;}#sk-container-id-2 input.sk-hidden--visually {border: 0;clip: rect(1px 1px 1px 1px);clip: rect(1px, 1px, 1px, 1px);height: 1px;margin: -1px;overflow: hidden;padding: 0;position: absolute;width: 1px;}#sk-container-id-2 div.sk-estimator {font-family: monospace;background-color: #f0f8ff;border: 1px dotted black;border-radius: 0.25em;box-sizing: border-box;margin-bottom: 0.5em;}#sk-container-id-2 div.sk-estimator:hover {background-color: #d4ebff;}#sk-container-id-2 div.sk-parallel-item::after {content: \"\";width: 100%;border-bottom: 1px solid gray;flex-grow: 1;}#sk-container-id-2 div.sk-label:hover label.sk-toggleable__label {background-color: #d4ebff;}#sk-container-id-2 div.sk-serial::before {content: \"\";position: absolute;border-left: 1px solid gray;box-sizing: border-box;top: 0;bottom: 0;left: 50%;z-index: 0;}#sk-container-id-2 div.sk-serial {display: flex;flex-direction: column;align-items: center;background-color: white;padding-right: 0.2em;padding-left: 0.2em;position: relative;}#sk-container-id-2 div.sk-item {position: relative;z-index: 1;}#sk-container-id-2 div.sk-parallel {display: flex;align-items: stretch;justify-content: center;background-color: white;position: relative;}#sk-container-id-2 div.sk-item::before, #sk-container-id-2 div.sk-parallel-item::before {content: \"\";position: absolute;border-left: 1px solid gray;box-sizing: border-box;top: 0;bottom: 0;left: 50%;z-index: -1;}#sk-container-id-2 div.sk-parallel-item {display: flex;flex-direction: column;z-index: 1;position: relative;background-color: white;}#sk-container-id-2 div.sk-parallel-item:first-child::after {align-self: flex-end;width: 50%;}#sk-container-id-2 div.sk-parallel-item:last-child::after {align-self: flex-start;width: 50%;}#sk-container-id-2 div.sk-parallel-item:only-child::after {width: 0;}#sk-container-id-2 div.sk-dashed-wrapped {border: 1px dashed gray;margin: 0 0.4em 0.5em 0.4em;box-sizing: border-box;padding-bottom: 0.4em;background-color: white;}#sk-container-id-2 div.sk-label label {font-family: monospace;font-weight: bold;display: inline-block;line-height: 1.2em;}#sk-container-id-2 div.sk-label-container {text-align: center;}#sk-container-id-2 div.sk-container {/* jupyter's `normalize.less` sets `[hidden] { display: none; }` but bootstrap.min.css set `[hidden] { display: none !important; }` so we also need the `!important` here to be able to override the default hidden behavior on the sphinx rendered scikit-learn.org. See: https://github.com/scikit-learn/scikit-learn/issues/21755 */display: inline-block !important;position: relative;}#sk-container-id-2 div.sk-text-repr-fallback {display: none;}</style><div id=\"sk-container-id-2\" class=\"sk-top-container\"><div class=\"sk-text-repr-fallback\"><pre>DecisionTreeRegressor(max_depth=1)</pre><b>In a Jupyter environment, please rerun this cell to show the HTML representation or trust the notebook. <br />On GitHub, the HTML representation is unable to render, please try loading this page with nbviewer.org.</b></div><div class=\"sk-container\" hidden><div class=\"sk-item\"><div class=\"sk-estimator sk-toggleable\"><input class=\"sk-toggleable__control sk-hidden--visually\" id=\"sk-estimator-id-2\" type=\"checkbox\" checked><label for=\"sk-estimator-id-2\" class=\"sk-toggleable__label sk-toggleable__label-arrow\">DecisionTreeRegressor</label><div class=\"sk-toggleable__content\"><pre>DecisionTreeRegressor(max_depth=1)</pre></div></div></div></div></div>"
      ],
      "text/plain": [
       "DecisionTreeRegressor(max_depth=1)"
      ]
     },
     "execution_count": 40,
     "metadata": {},
     "output_type": "execute_result"
    }
   ],
   "source": [
    "model = mlflow.sklearn.load_model(f\"models:/{model_name}/staging\")\n",
    "model"
   ]
  },
  {
   "cell_type": "code",
   "execution_count": 41,
   "metadata": {},
   "outputs": [
    {
     "data": {
      "text/html": [
       "<div>\n",
       "<style scoped>\n",
       "    .dataframe tbody tr th:only-of-type {\n",
       "        vertical-align: middle;\n",
       "    }\n",
       "\n",
       "    .dataframe tbody tr th {\n",
       "        vertical-align: top;\n",
       "    }\n",
       "\n",
       "    .dataframe thead th {\n",
       "        text-align: right;\n",
       "    }\n",
       "</style>\n",
       "<table border=\"1\" class=\"dataframe\">\n",
       "  <thead>\n",
       "    <tr style=\"text-align: right;\">\n",
       "      <th></th>\n",
       "      <th>0</th>\n",
       "    </tr>\n",
       "  </thead>\n",
       "  <tbody>\n",
       "    <tr>\n",
       "      <th>0</th>\n",
       "      <td>5.570489</td>\n",
       "    </tr>\n",
       "    <tr>\n",
       "      <th>1</th>\n",
       "      <td>5.570489</td>\n",
       "    </tr>\n",
       "    <tr>\n",
       "      <th>2</th>\n",
       "      <td>5.570489</td>\n",
       "    </tr>\n",
       "    <tr>\n",
       "      <th>3</th>\n",
       "      <td>5.570489</td>\n",
       "    </tr>\n",
       "    <tr>\n",
       "      <th>4</th>\n",
       "      <td>5.570489</td>\n",
       "    </tr>\n",
       "  </tbody>\n",
       "</table>\n",
       "</div>"
      ],
      "text/plain": [
       "          0\n",
       "0  5.570489\n",
       "1  5.570489\n",
       "2  5.570489\n",
       "3  5.570489\n",
       "4  5.570489"
      ]
     },
     "execution_count": 41,
     "metadata": {},
     "output_type": "execute_result"
    }
   ],
   "source": [
    "predictions = model.predict(data_predict)\n",
    "pd.DataFrame(predictions).head(5)"
   ]
  },
  {
   "cell_type": "code",
   "execution_count": null,
   "metadata": {},
   "outputs": [],
   "source": []
  }
 ],
 "metadata": {
  "kernelspec": {
   "display_name": "Python 3 (ipykernel)",
   "language": "python",
   "name": "python3"
  },
  "language_info": {
   "codemirror_mode": {
    "name": "ipython",
    "version": 3
   },
   "file_extension": ".py",
   "mimetype": "text/x-python",
   "name": "python",
   "nbconvert_exporter": "python",
   "pygments_lexer": "ipython3",
   "version": "3.11.4"
  },
  "name": "Train Wine Quality",
  "notebookId": 4664335
 },
 "nbformat": 4,
 "nbformat_minor": 1
}
